{
  "cells": [
    {
      "cell_type": "markdown",
      "id": "31d9a4c9",
      "metadata": {
        "origin_pos": 0,
        "id": "31d9a4c9"
      },
      "source": [
        "# Using Jupyter Notebooks\n",
        ":label:`sec_jupyter`\n",
        "\n",
        "\n",
        "This section describes how to edit and run the code\n",
        "in each section of this book\n",
        "using the Jupyter Notebook. Make sure you have\n",
        "installed Jupyter and downloaded the\n",
        "code as described in\n",
        ":ref:`chap_installation`.\n",
        "If you want to know more about Jupyter see the excellent tutorial in\n",
        "their [documentation](https://jupyter.readthedocs.io/en/latest/).\n",
        "\n",
        "\n",
        "## Editing and Running the Code Locally\n",
        "\n",
        "Suppose that the local path of the book's code is `xx/yy/d2l-en/`. Use the shell to change the directory to this path (`cd xx/yy/d2l-en`) and run the command `jupyter notebook`. If your browser does not do this automatically, open http://localhost:8888 and you will see the interface of Jupyter and all the folders containing the code of the book, as shown in :numref:`fig_jupyter00`.\n",
        "\n",
        "![The folders containing the code of this book.](https://github.com/d2l-ai/d2l-en-colab/blob/master/img/jupyter00.png?raw=1)\n",
        ":width:`600px`\n",
        ":label:`fig_jupyter00`\n",
        "\n",
        "\n",
        "You can access the notebook files by clicking on the folder displayed on the webpage.\n",
        "They usually have the suffix \".ipynb\".\n",
        "For the sake of brevity, we create a temporary \"test.ipynb\" file.\n",
        "The content displayed after you click it is\n",
        "shown in :numref:`fig_jupyter01`.\n",
        "This notebook includes a markdown cell and a code cell. The content in the markdown cell includes \"This Is a Title\" and \"This is text.\".\n",
        "The code cell contains two lines of Python code.\n",
        "\n",
        "![Markdown and code cells in the \"text.ipynb\" file.](https://github.com/d2l-ai/d2l-en-colab/blob/master/img/jupyter01.png?raw=1)\n",
        ":width:`600px`\n",
        ":label:`fig_jupyter01`\n",
        "\n",
        "\n",
        "Double click on the markdown cell to enter edit mode.\n",
        "Add a new text string \"Hello world.\" at the end of the cell, as shown in :numref:`fig_jupyter02`.\n",
        "\n",
        "![Edit the markdown cell.](https://github.com/d2l-ai/d2l-en-colab/blob/master/img/jupyter02.png?raw=1)\n",
        ":width:`600px`\n",
        ":label:`fig_jupyter02`\n",
        "\n",
        "\n",
        "As demonstrated in :numref:`fig_jupyter03`,\n",
        "click \"Cell\" $\\rightarrow$ \"Run Cells\" in the menu bar to run the edited cell.\n",
        "\n",
        "![Run the cell.](https://github.com/d2l-ai/d2l-en-colab/blob/master/img/jupyter03.png?raw=1)\n",
        ":width:`600px`\n",
        ":label:`fig_jupyter03`\n",
        "\n",
        "After running, the markdown cell is shown in :numref:`fig_jupyter04`.\n",
        "\n",
        "![The markdown cell after running.](https://github.com/d2l-ai/d2l-en-colab/blob/master/img/jupyter04.png?raw=1)\n",
        ":width:`600px`\n",
        ":label:`fig_jupyter04`\n",
        "\n",
        "\n",
        "Next, click on the code cell. Multiply the elements by 2 after the last line of code, as shown in :numref:`fig_jupyter05`.\n",
        "\n",
        "![Edit the code cell.](https://github.com/d2l-ai/d2l-en-colab/blob/master/img/jupyter05.png?raw=1)\n",
        ":width:`600px`\n",
        ":label:`fig_jupyter05`\n",
        "\n",
        "\n",
        "You can also run the cell with a shortcut (\"Ctrl + Enter\" by default) and obtain the output result from :numref:`fig_jupyter06`.\n",
        "\n",
        "![Run the code cell to obtain the output.](https://github.com/d2l-ai/d2l-en-colab/blob/master/img/jupyter06.png?raw=1)\n",
        ":width:`600px`\n",
        ":label:`fig_jupyter06`\n",
        "\n",
        "\n",
        "When a notebook contains more cells, we can click \"Kernel\" $\\rightarrow$ \"Restart & Run All\" in the menu bar to run all the cells in the entire notebook. By clicking \"Help\" $\\rightarrow$ \"Edit Keyboard Shortcuts\" in the menu bar, you can edit the shortcuts according to your preferences.\n",
        "\n",
        "## Advanced Options\n",
        "\n",
        "Beyond local editing two things are quite important: editing the notebooks in the markdown format and running Jupyter remotely.\n",
        "The latter matters when we want to run the code on a faster server.\n",
        "The former matters since Jupyter's native ipynb format stores a lot of auxiliary data that is\n",
        "irrelevant to the content,\n",
        "mostly related to how and where the code is run.\n",
        "This is confusing for Git, making\n",
        "reviewing contributions very difficult.\n",
        "Fortunately there is an alternative---native editing in the markdown format.\n",
        "\n",
        "### Markdown Files in Jupyter\n",
        "\n",
        "If you wish to contribute to the content of this book, you need to modify the\n",
        "source file (md file, not ipynb file) on GitHub.\n",
        "Using the notedown plugin we\n",
        "can modify notebooks in the md format directly in Jupyter.\n",
        "\n",
        "\n",
        "First, install the notedown plugin, run the Jupyter Notebook, and load the plugin:\n",
        "\n",
        "```\n",
        "pip install d2l-notedown  # You may need to uninstall the original notedown.\n",
        "jupyter notebook --NotebookApp.contents_manager_class='notedown.NotedownContentsManager'\n",
        "```\n",
        "\n",
        "You may also turn on the notedown plugin by default whenever you run the Jupyter Notebook.\n",
        "First, generate a Jupyter Notebook configuration file (if it has already been generated, you can skip this step).\n",
        "\n",
        "```\n",
        "jupyter notebook --generate-config\n",
        "```\n",
        "\n",
        "Then, add the following line to the end of the Jupyter Notebook configuration file (for Linux or macOS, usually in the path `~/.jupyter/jupyter_notebook_config.py`):\n",
        "\n",
        "```\n",
        "c.NotebookApp.contents_manager_class = 'notedown.NotedownContentsManager'\n",
        "```\n",
        "\n",
        "After that, you only need to run the `jupyter notebook` command to turn on the notedown plugin by default.\n",
        "\n",
        "### Running Jupyter Notebooks on a Remote Server\n",
        "\n",
        "Sometimes, you may want to run Jupyter notebooks on a remote server and access it through a browser on your local computer. If Linux or macOS is installed on your local machine (Windows can also support this function through third-party software such as PuTTY), you can use port forwarding:\n",
        "\n",
        "```\n",
        "ssh myserver -L 8888:localhost:8888\n",
        "```\n",
        "\n",
        "The above string `myserver` is the address of the remote server.\n",
        "Then we can use http://localhost:8888 to access the remote server `myserver` that runs Jupyter notebooks. We will detail on how to run Jupyter notebooks on AWS instances\n",
        "later in this appendix.\n",
        "\n",
        "### Timing\n",
        "\n",
        "We can use the `ExecuteTime` plugin to time the execution of each code cell in Jupyter notebooks.\n",
        "Use the following commands to install the plugin:\n",
        "\n",
        "```\n",
        "pip install jupyter_contrib_nbextensions\n",
        "jupyter contrib nbextension install --user\n",
        "jupyter nbextension enable execute_time/ExecuteTime\n",
        "```\n",
        "\n",
        "## Summary\n",
        "\n",
        "* Using the Jupyter Notebook tool, we can edit, run, and contribute to each section of the book.\n",
        "* We can run Jupyter notebooks on remote servers using port forwarding.\n",
        "\n",
        "\n",
        "## Exercises\n",
        "\n",
        "1. Edit and run the code in this book with the Jupyter Notebook on your local machine.\n",
        "1. Edit and run the code in this book with the Jupyter Notebook *remotely* via port forwarding.\n",
        "1. Compare the running time of the operations $\\mathbf{A}^\\top \\mathbf{B}$ and $\\mathbf{A} \\mathbf{B}$ for two square matrices in $\\mathbb{R}^{1024 \\times 1024}$. Which one is faster?\n",
        "\n",
        "\n",
        "[Discussions](https://discuss.d2l.ai/t/421)\n"
      ]
    },
    {
      "cell_type": "markdown",
      "source": [
        "# New section"
      ],
      "metadata": {
        "id": "ZbIgajc9DEWJ"
      },
      "id": "ZbIgajc9DEWJ"
    },
    {
      "cell_type": "code",
      "source": [
        "from sqlalchemy import create_engine, Column, Integer, String, Float, ForeignKey, DateTime\n",
        "from sqlalchemy.orm import declarative_base, sessionmaker, relationship\n",
        "from datetime import datetime\n",
        "\n",
        "# Database setup\n",
        "engine = create_engine(\"sqlite:///bank.db\", echo=True)\n",
        "Session = sessionmaker(bind=engine)\n",
        "session = Session()\n",
        "\n",
        "Base = declarative_base()\n",
        "\n",
        "# Account Model\n",
        "class Account(Base):\n",
        "    __tablename__ = \"accounts\"\n",
        "\n",
        "    id = Column(Integer, primary_key=True)\n",
        "    name = Column(String, nullable=False)\n",
        "    account_number = Column(String, unique=True, nullable=False)\n",
        "    balance = Column(Float, default=0.0)\n",
        "\n",
        "    transactions = relationship(\"Transaction\", back_populates=\"account\")\n",
        "\n",
        "    def deposit(self, amount):\n",
        "        if amount > 0:\n",
        "            self.balance += amount\n",
        "            session.add(Transaction(account_id=self.id, type=\"Deposit\", amount=amount))\n",
        "            session.commit()\n",
        "            print(f\"₹{amount} deposited successfully. New balance: ₹{self.balance}\")\n",
        "        else:\n",
        "            print(\"Invalid deposit amount.\")\n",
        "\n",
        "    def withdraw(self, amount):\n",
        "        if 0 < amount <= self.balance:\n",
        "            self.balance -= amount\n",
        "            session.add(Transaction(account_id=self.id, type=\"Withdraw\", amount=amount))\n",
        "            session.commit()\n",
        "            print(f\"₹{amount} withdrawn successfully. New balance: ₹{self.balance}\")\n",
        "        else:\n",
        "            print(\"Insufficient funds or invalid amount.\")\n",
        "\n",
        "    def transfer(self, recipient, amount):\n",
        "        if 0 < amount <= self.balance:\n",
        "            self.balance -= amount\n",
        "            recipient.balance += amount\n",
        "\n",
        "            session.add(Transaction(account_id=self.id, type=\"Transfer Out\", amount=amount))\n",
        "            session.add(Transaction(account_id=recipient.id, type=\"Transfer In\", amount=amount))\n",
        "\n",
        "            session.commit()\n",
        "            print(f\"₹{amount} transferred to {recipient.name}. New balance: ₹{self.balance}\")\n",
        "        else:\n",
        "            print(\"Transfer failed due to insufficient balance or invalid amount.\")\n",
        "\n",
        "    def check_balance(self):\n",
        "        print(f\"Account Balance: ₹{self.balance}\")\n",
        "\n",
        "    def view_transactions(self):\n",
        "        transactions = session.query(Transaction).filter_by(account_id=self.id).all()\n",
        "        if transactions:\n",
        "            print(\"\\nTransaction History:\")\n",
        "            for txn in transactions:\n",
        "                print(f\"{txn.date} | {txn.type} | ₹{txn.amount}\")\n",
        "        else:\n",
        "            print(\"No transactions found.\")\n",
        "\n",
        "# Transaction Model\n",
        "class Transaction(Base):\n",
        "    __tablename__ = \"transactions\"\n",
        "\n",
        "    id = Column(Integer, primary_key=True)\n",
        "    account_id = Column(Integer, ForeignKey(\"accounts.id\"), nullable=False)\n",
        "    type = Column(String, nullable=False)\n",
        "    amount = Column(Float, nullable=False)\n",
        "    date = Column(DateTime, default=datetime.now)\n",
        "\n",
        "    account = relationship(\"Account\", back_populates=\"transactions\")\n",
        "\n",
        "# Create tables\n",
        "Base.metadata.create_all(engine)\n",
        "\n",
        "# Utility Functions\n",
        "def create_account():\n",
        "    name = input(\"Enter account holder name: \")\n",
        "    acc_number = input(\"Enter account number: \")\n",
        "\n",
        "    if session.query(Account).filter_by(account_number=acc_number).first():\n",
        "        print(\"Account number already exists!\")\n",
        "        return\n",
        "\n",
        "    account = Account(name=name, account_number=acc_number)\n",
        "    session.add(account)\n",
        "    session.commit()\n",
        "    print(\"Account created successfully!\")\n",
        "\n",
        "def get_account():\n",
        "    acc_number = input(\"Enter account number: \")\n",
        "    account = session.query(Account).filter_by(account_number=acc_number).first()\n",
        "    if not account:\n",
        "        print(\"Account not found.\")\n",
        "    return account\n",
        "\n",
        "def main():\n",
        "    while True:\n",
        "        print(\"\\n--- Banking System ---\")\n",
        "        print(\"1. Create Account\")\n",
        "        print(\"2. Deposit Money\")\n",
        "        print(\"3. Withdraw Money\")\n",
        "        print(\"4. Transfer Money\")\n",
        "        print(\"5. Check Balance\")\n",
        "        print(\"6. View Transactions\")\n",
        "        print(\"7. Exit\")\n",
        "\n",
        "        choice = input(\"Choose an option: \")\n",
        "\n",
        "        if choice == \"1\":\n",
        "            create_account()\n",
        "        elif choice == \"2\":\n",
        "            account = get_account()\n",
        "            if account:\n",
        "                amount = float(input(\"Enter deposit amount: \"))\n",
        "                account.deposit(amount)\n",
        "        elif choice == \"3\":\n",
        "            account = get_account()\n",
        "            if account:\n",
        "                amount = float(input(\"Enter withdrawal amount: \"))\n",
        "                account.withdraw(amount)\n",
        "        elif choice == \"4\":\n",
        "            sender = get_account()\n",
        "            if sender:\n",
        "                recipient = get_account()\n",
        "                if recipient:\n",
        "                    amount = float(input(\"Enter transfer amount: \"))\n",
        "                    sender.transfer(recipient, amount)\n",
        "        elif choice == \"5\":\n",
        "            account = get_account()\n",
        "            if account:\n",
        "                account.check_balance()\n",
        "        elif choice == \"6\":\n",
        "            account = get_account()\n",
        "            if account:\n",
        "                account.view_transactions()\n",
        "        elif choice == \"7\":\n",
        "            print(\"Exiting... Thank you!\")\n",
        "            break\n",
        "        else:\n",
        "            print(\"Invalid choice, try again.\")\n",
        "\n",
        "if __name__ == \"__main__\":\n",
        "    main()\n"
      ],
      "metadata": {
        "colab": {
          "base_uri": "https://localhost:8080/"
        },
        "id": "E7Z0Dv9dDFfZ",
        "outputId": "7cc96e8f-3844-40cc-f3b5-e0d0f2153074"
      },
      "id": "E7Z0Dv9dDFfZ",
      "execution_count": null,
      "outputs": [
        {
          "metadata": {
            "tags": null
          },
          "name": "stdout",
          "output_type": "stream",
          "text": [
            "2025-02-13 16:06:55,285 INFO sqlalchemy.engine.Engine BEGIN (implicit)\n"
          ]
        },
        {
          "metadata": {
            "tags": null
          },
          "name": "stderr",
          "output_type": "stream",
          "text": [
            "INFO:sqlalchemy.engine.Engine:BEGIN (implicit)\n"
          ]
        },
        {
          "metadata": {
            "tags": null
          },
          "name": "stdout",
          "output_type": "stream",
          "text": [
            "2025-02-13 16:06:55,292 INFO sqlalchemy.engine.Engine PRAGMA main.table_info(\"accounts\")\n"
          ]
        },
        {
          "metadata": {
            "tags": null
          },
          "name": "stderr",
          "output_type": "stream",
          "text": [
            "INFO:sqlalchemy.engine.Engine:PRAGMA main.table_info(\"accounts\")\n"
          ]
        },
        {
          "metadata": {
            "tags": null
          },
          "name": "stdout",
          "output_type": "stream",
          "text": [
            "2025-02-13 16:06:55,296 INFO sqlalchemy.engine.Engine [raw sql] ()\n"
          ]
        },
        {
          "metadata": {
            "tags": null
          },
          "name": "stderr",
          "output_type": "stream",
          "text": [
            "INFO:sqlalchemy.engine.Engine:[raw sql] ()\n"
          ]
        },
        {
          "metadata": {
            "tags": null
          },
          "name": "stdout",
          "output_type": "stream",
          "text": [
            "2025-02-13 16:06:55,300 INFO sqlalchemy.engine.Engine PRAGMA main.table_info(\"transactions\")\n"
          ]
        },
        {
          "metadata": {
            "tags": null
          },
          "name": "stderr",
          "output_type": "stream",
          "text": [
            "INFO:sqlalchemy.engine.Engine:PRAGMA main.table_info(\"transactions\")\n"
          ]
        },
        {
          "metadata": {
            "tags": null
          },
          "name": "stdout",
          "output_type": "stream",
          "text": [
            "2025-02-13 16:06:55,304 INFO sqlalchemy.engine.Engine [raw sql] ()\n"
          ]
        },
        {
          "metadata": {
            "tags": null
          },
          "name": "stderr",
          "output_type": "stream",
          "text": [
            "INFO:sqlalchemy.engine.Engine:[raw sql] ()\n"
          ]
        },
        {
          "metadata": {
            "tags": null
          },
          "name": "stdout",
          "output_type": "stream",
          "text": [
            "2025-02-13 16:06:55,307 INFO sqlalchemy.engine.Engine COMMIT\n"
          ]
        },
        {
          "metadata": {
            "tags": null
          },
          "name": "stderr",
          "output_type": "stream",
          "text": [
            "INFO:sqlalchemy.engine.Engine:COMMIT\n"
          ]
        },
        {
          "metadata": {
            "tags": null
          },
          "name": "stdout",
          "output_type": "stream",
          "text": [
            "\n",
            "--- Banking System ---\n",
            "1. Create Account\n",
            "2. Deposit Money\n",
            "3. Withdraw Money\n",
            "4. Transfer Money\n",
            "5. Check Balance\n",
            "6. View Transactions\n",
            "7. Exit\n",
            "2025-02-13 16:07:41,025 INFO sqlalchemy.engine.Engine BEGIN (implicit)\n"
          ]
        },
        {
          "metadata": {
            "tags": null
          },
          "name": "stderr",
          "output_type": "stream",
          "text": [
            "INFO:sqlalchemy.engine.Engine:BEGIN (implicit)\n"
          ]
        },
        {
          "metadata": {
            "tags": null
          },
          "name": "stdout",
          "output_type": "stream",
          "text": [
            "2025-02-13 16:07:41,034 INFO sqlalchemy.engine.Engine SELECT accounts.id AS accounts_id, accounts.name AS accounts_name, accounts.account_number AS accounts_account_number, accounts.balance AS accounts_balance \n",
            "FROM accounts \n",
            "WHERE accounts.account_number = ?\n",
            " LIMIT ? OFFSET ?\n"
          ]
        },
        {
          "metadata": {
            "tags": null
          },
          "name": "stderr",
          "output_type": "stream",
          "text": [
            "INFO:sqlalchemy.engine.Engine:SELECT accounts.id AS accounts_id, accounts.name AS accounts_name, accounts.account_number AS accounts_account_number, accounts.balance AS accounts_balance \n",
            "FROM accounts \n",
            "WHERE accounts.account_number = ?\n",
            " LIMIT ? OFFSET ?\n"
          ]
        },
        {
          "metadata": {
            "tags": null
          },
          "name": "stdout",
          "output_type": "stream",
          "text": [
            "2025-02-13 16:07:41,038 INFO sqlalchemy.engine.Engine [generated in 0.00444s] ('987654321', 1, 0)\n"
          ]
        },
        {
          "metadata": {
            "tags": null
          },
          "name": "stderr",
          "output_type": "stream",
          "text": [
            "INFO:sqlalchemy.engine.Engine:[generated in 0.00444s] ('987654321', 1, 0)\n"
          ]
        },
        {
          "metadata": {
            "tags": null
          },
          "name": "stdout",
          "output_type": "stream",
          "text": [
            "Account number already exists!\n",
            "\n",
            "--- Banking System ---\n",
            "1. Create Account\n",
            "2. Deposit Money\n",
            "3. Withdraw Money\n",
            "4. Transfer Money\n",
            "5. Check Balance\n",
            "6. View Transactions\n",
            "7. Exit\n",
            "Invalid choice, try again.\n",
            "\n",
            "--- Banking System ---\n",
            "1. Create Account\n",
            "2. Deposit Money\n",
            "3. Withdraw Money\n",
            "4. Transfer Money\n",
            "5. Check Balance\n",
            "6. View Transactions\n",
            "7. Exit\n",
            "2025-02-13 16:08:34,535 INFO sqlalchemy.engine.Engine SELECT accounts.id AS accounts_id, accounts.name AS accounts_name, accounts.account_number AS accounts_account_number, accounts.balance AS accounts_balance \n",
            "FROM accounts \n",
            "WHERE accounts.account_number = ?\n",
            " LIMIT ? OFFSET ?\n"
          ]
        },
        {
          "metadata": {
            "tags": null
          },
          "name": "stderr",
          "output_type": "stream",
          "text": [
            "INFO:sqlalchemy.engine.Engine:SELECT accounts.id AS accounts_id, accounts.name AS accounts_name, accounts.account_number AS accounts_account_number, accounts.balance AS accounts_balance \n",
            "FROM accounts \n",
            "WHERE accounts.account_number = ?\n",
            " LIMIT ? OFFSET ?\n"
          ]
        },
        {
          "metadata": {
            "tags": null
          },
          "name": "stdout",
          "output_type": "stream",
          "text": [
            "2025-02-13 16:08:34,539 INFO sqlalchemy.engine.Engine [cached since 53.51s ago] ('123456789', 1, 0)\n"
          ]
        },
        {
          "metadata": {
            "tags": null
          },
          "name": "stderr",
          "output_type": "stream",
          "text": [
            "INFO:sqlalchemy.engine.Engine:[cached since 53.51s ago] ('123456789', 1, 0)\n"
          ]
        },
        {
          "metadata": {
            "tags": null
          },
          "name": "stdout",
          "output_type": "stream",
          "text": [
            "2025-02-13 16:08:34,547 INFO sqlalchemy.engine.Engine INSERT INTO accounts (name, account_number, balance) VALUES (?, ?, ?)\n"
          ]
        },
        {
          "metadata": {
            "tags": null
          },
          "name": "stderr",
          "output_type": "stream",
          "text": [
            "INFO:sqlalchemy.engine.Engine:INSERT INTO accounts (name, account_number, balance) VALUES (?, ?, ?)\n"
          ]
        },
        {
          "metadata": {
            "tags": null
          },
          "name": "stdout",
          "output_type": "stream",
          "text": [
            "2025-02-13 16:08:34,552 INFO sqlalchemy.engine.Engine [generated in 0.00524s] ('Sakshi', '123456789', 0.0)\n"
          ]
        },
        {
          "metadata": {
            "tags": null
          },
          "name": "stderr",
          "output_type": "stream",
          "text": [
            "INFO:sqlalchemy.engine.Engine:[generated in 0.00524s] ('Sakshi', '123456789', 0.0)\n"
          ]
        },
        {
          "metadata": {
            "tags": null
          },
          "name": "stdout",
          "output_type": "stream",
          "text": [
            "2025-02-13 16:08:34,558 INFO sqlalchemy.engine.Engine COMMIT\n"
          ]
        },
        {
          "metadata": {
            "tags": null
          },
          "name": "stderr",
          "output_type": "stream",
          "text": [
            "INFO:sqlalchemy.engine.Engine:COMMIT\n"
          ]
        },
        {
          "metadata": {
            "tags": null
          },
          "name": "stdout",
          "output_type": "stream",
          "text": [
            "Account created successfully!\n",
            "\n",
            "--- Banking System ---\n",
            "1. Create Account\n",
            "2. Deposit Money\n",
            "3. Withdraw Money\n",
            "4. Transfer Money\n",
            "5. Check Balance\n",
            "6. View Transactions\n",
            "7. Exit\n"
          ]
        }
      ]
    }
  ],
  "metadata": {
    "kernelspec": {
      "display_name": "Python 3",
      "name": "python3"
    },
    "language_info": {
      "name": "python"
    },
    "required_libs": [],
    "colab": {
      "provenance": [],
      "toc_visible": true
    }
  },
  "nbformat": 4,
  "nbformat_minor": 5
}